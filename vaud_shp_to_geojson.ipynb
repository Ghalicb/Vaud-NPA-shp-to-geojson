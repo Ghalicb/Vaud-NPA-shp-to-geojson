{
 "cells": [
  {
   "cell_type": "code",
   "execution_count": 1,
   "id": "sound-gallery",
   "metadata": {},
   "outputs": [],
   "source": [
    "import pandas as pd\n",
    "import geopandas as gpd"
   ]
  },
  {
   "cell_type": "markdown",
   "id": "relative-wallet",
   "metadata": {},
   "source": [
    "### Data loading"
   ]
  },
  {
   "cell_type": "markdown",
   "id": "chicken-feedback",
   "metadata": {},
   "source": [
    "#### Load SHP data"
   ]
  },
  {
   "cell_type": "code",
   "execution_count": 2,
   "id": "fixed-carnival",
   "metadata": {},
   "outputs": [],
   "source": [
    "gdf_ch = gpd.read_file('data/PLZO_PLZ.shp')\n",
    "gdf_ch = gdf_ch.to_crs('EPSG:4326') ### Check which nomenclature ###"
   ]
  },
  {
   "cell_type": "code",
   "execution_count": 3,
   "id": "incredible-attachment",
   "metadata": {},
   "outputs": [
    {
     "name": "stdout",
     "output_type": "stream",
     "text": [
      "Shape: (4133, 7)\n"
     ]
    },
    {
     "data": {
      "text/html": [
       "<div>\n",
       "<style scoped>\n",
       "    .dataframe tbody tr th:only-of-type {\n",
       "        vertical-align: middle;\n",
       "    }\n",
       "\n",
       "    .dataframe tbody tr th {\n",
       "        vertical-align: top;\n",
       "    }\n",
       "\n",
       "    .dataframe thead th {\n",
       "        text-align: right;\n",
       "    }\n",
       "</style>\n",
       "<table border=\"1\" class=\"dataframe\">\n",
       "  <thead>\n",
       "    <tr style=\"text-align: right;\">\n",
       "      <th></th>\n",
       "      <th>UUID</th>\n",
       "      <th>OS_UUID</th>\n",
       "      <th>STATUS</th>\n",
       "      <th>INAEND</th>\n",
       "      <th>PLZ</th>\n",
       "      <th>ZUSZIFF</th>\n",
       "      <th>geometry</th>\n",
       "    </tr>\n",
       "  </thead>\n",
       "  <tbody>\n",
       "    <tr>\n",
       "      <th>0</th>\n",
       "      <td>{0072F991-E46D-447E-A3BE-75467DB57FFC}</td>\n",
       "      <td>{281807DC-9C0B-4364-9A55-0E8956876194}</td>\n",
       "      <td>real</td>\n",
       "      <td>nein</td>\n",
       "      <td>3920</td>\n",
       "      <td>0</td>\n",
       "      <td>POLYGON ((7.57586 45.98819, 7.57660 45.98882, ...</td>\n",
       "    </tr>\n",
       "    <tr>\n",
       "      <th>1</th>\n",
       "      <td>{C3D3316F-1DFE-468E-BFC5-5C2308743B4C}</td>\n",
       "      <td>{F065D58C-3F88-46EF-9AA0-DA0A96766333}</td>\n",
       "      <td>real</td>\n",
       "      <td>nein</td>\n",
       "      <td>3864</td>\n",
       "      <td>0</td>\n",
       "      <td>POLYGON ((8.11446 46.54657, 8.11535 46.54715, ...</td>\n",
       "    </tr>\n",
       "    <tr>\n",
       "      <th>2</th>\n",
       "      <td>{479E660B-A0A5-4297-AA66-FA62735EFDC6}</td>\n",
       "      <td>{45243689-766B-4FFC-9A14-AF0D17AADE48}</td>\n",
       "      <td>real</td>\n",
       "      <td>nein</td>\n",
       "      <td>1948</td>\n",
       "      <td>1</td>\n",
       "      <td>POLYGON ((7.29419 45.92253, 7.29421 45.92344, ...</td>\n",
       "    </tr>\n",
       "    <tr>\n",
       "      <th>3</th>\n",
       "      <td>{FDFBFFDF-11C2-4CC9-B903-EF17677388BF}</td>\n",
       "      <td>{678407FD-30DD-4699-A2D7-FD3602AD9EF0}</td>\n",
       "      <td>real</td>\n",
       "      <td>nein</td>\n",
       "      <td>7504</td>\n",
       "      <td>0</td>\n",
       "      <td>POLYGON ((9.83195 46.36054, 9.83206 46.36083, ...</td>\n",
       "    </tr>\n",
       "    <tr>\n",
       "      <th>4</th>\n",
       "      <td>{CB229C54-DF46-45A0-B75F-6E77240B4B03}</td>\n",
       "      <td>{D4A72AA9-CF35-4F14-8AD4-03F2EDAC5BA1}</td>\n",
       "      <td>real</td>\n",
       "      <td>nein</td>\n",
       "      <td>3984</td>\n",
       "      <td>2</td>\n",
       "      <td>POLYGON ((8.11446 46.54657, 8.11497 46.54618, ...</td>\n",
       "    </tr>\n",
       "  </tbody>\n",
       "</table>\n",
       "</div>"
      ],
      "text/plain": [
       "                                     UUID  \\\n",
       "0  {0072F991-E46D-447E-A3BE-75467DB57FFC}   \n",
       "1  {C3D3316F-1DFE-468E-BFC5-5C2308743B4C}   \n",
       "2  {479E660B-A0A5-4297-AA66-FA62735EFDC6}   \n",
       "3  {FDFBFFDF-11C2-4CC9-B903-EF17677388BF}   \n",
       "4  {CB229C54-DF46-45A0-B75F-6E77240B4B03}   \n",
       "\n",
       "                                  OS_UUID STATUS INAEND   PLZ  ZUSZIFF  \\\n",
       "0  {281807DC-9C0B-4364-9A55-0E8956876194}   real   nein  3920        0   \n",
       "1  {F065D58C-3F88-46EF-9AA0-DA0A96766333}   real   nein  3864        0   \n",
       "2  {45243689-766B-4FFC-9A14-AF0D17AADE48}   real   nein  1948        1   \n",
       "3  {678407FD-30DD-4699-A2D7-FD3602AD9EF0}   real   nein  7504        0   \n",
       "4  {D4A72AA9-CF35-4F14-8AD4-03F2EDAC5BA1}   real   nein  3984        2   \n",
       "\n",
       "                                            geometry  \n",
       "0  POLYGON ((7.57586 45.98819, 7.57660 45.98882, ...  \n",
       "1  POLYGON ((8.11446 46.54657, 8.11535 46.54715, ...  \n",
       "2  POLYGON ((7.29419 45.92253, 7.29421 45.92344, ...  \n",
       "3  POLYGON ((9.83195 46.36054, 9.83206 46.36083, ...  \n",
       "4  POLYGON ((8.11446 46.54657, 8.11497 46.54618, ...  "
      ]
     },
     "execution_count": 3,
     "metadata": {},
     "output_type": "execute_result"
    }
   ],
   "source": [
    "print(\"Shape:\", gdf_ch.shape)\n",
    "gdf_ch.head(5)"
   ]
  },
  {
   "cell_type": "code",
   "execution_count": 4,
   "id": "internal-germany",
   "metadata": {},
   "outputs": [],
   "source": [
    "npa_ch = pd.read_excel('data/npa_suisse.xls', sheet_name=\"PLZ4 -> GDE - NPA4 -> COM\", skiprows= 10)"
   ]
  },
  {
   "cell_type": "code",
   "execution_count": 5,
   "id": "arabic-emission",
   "metadata": {},
   "outputs": [
    {
     "name": "stdout",
     "output_type": "stream",
     "text": [
      "Shape: (4934, 6)\n"
     ]
    },
    {
     "data": {
      "text/html": [
       "<div>\n",
       "<style scoped>\n",
       "    .dataframe tbody tr th:only-of-type {\n",
       "        vertical-align: middle;\n",
       "    }\n",
       "\n",
       "    .dataframe tbody tr th {\n",
       "        vertical-align: top;\n",
       "    }\n",
       "\n",
       "    .dataframe thead th {\n",
       "        text-align: right;\n",
       "    }\n",
       "</style>\n",
       "<table border=\"1\" class=\"dataframe\">\n",
       "  <thead>\n",
       "    <tr style=\"text-align: right;\">\n",
       "      <th></th>\n",
       "      <th>PLZ4</th>\n",
       "      <th>%_IN_GDE</th>\n",
       "      <th>GDENR</th>\n",
       "      <th>KTKZ</th>\n",
       "      <th>GDENAMK</th>\n",
       "      <th>Unnamed: 5</th>\n",
       "    </tr>\n",
       "  </thead>\n",
       "  <tbody>\n",
       "    <tr>\n",
       "      <th>0</th>\n",
       "      <td>1000</td>\n",
       "      <td>100.0</td>\n",
       "      <td>5586</td>\n",
       "      <td>VD</td>\n",
       "      <td>Lausanne</td>\n",
       "      <td>NaN</td>\n",
       "    </tr>\n",
       "    <tr>\n",
       "      <th>1</th>\n",
       "      <td>1003</td>\n",
       "      <td>100.0</td>\n",
       "      <td>5586</td>\n",
       "      <td>VD</td>\n",
       "      <td>Lausanne</td>\n",
       "      <td>NaN</td>\n",
       "    </tr>\n",
       "    <tr>\n",
       "      <th>2</th>\n",
       "      <td>1004</td>\n",
       "      <td>100.0</td>\n",
       "      <td>5586</td>\n",
       "      <td>VD</td>\n",
       "      <td>Lausanne</td>\n",
       "      <td>NaN</td>\n",
       "    </tr>\n",
       "    <tr>\n",
       "      <th>3</th>\n",
       "      <td>1005</td>\n",
       "      <td>100.0</td>\n",
       "      <td>5586</td>\n",
       "      <td>VD</td>\n",
       "      <td>Lausanne</td>\n",
       "      <td>NaN</td>\n",
       "    </tr>\n",
       "    <tr>\n",
       "      <th>4</th>\n",
       "      <td>1006</td>\n",
       "      <td>99.9</td>\n",
       "      <td>5586</td>\n",
       "      <td>VD</td>\n",
       "      <td>Lausanne</td>\n",
       "      <td>NaN</td>\n",
       "    </tr>\n",
       "  </tbody>\n",
       "</table>\n",
       "</div>"
      ],
      "text/plain": [
       "   PLZ4  %_IN_GDE  GDENR KTKZ   GDENAMK  Unnamed: 5\n",
       "0  1000     100.0   5586   VD  Lausanne         NaN\n",
       "1  1003     100.0   5586   VD  Lausanne         NaN\n",
       "2  1004     100.0   5586   VD  Lausanne         NaN\n",
       "3  1005     100.0   5586   VD  Lausanne         NaN\n",
       "4  1006      99.9   5586   VD  Lausanne         NaN"
      ]
     },
     "execution_count": 5,
     "metadata": {},
     "output_type": "execute_result"
    }
   ],
   "source": [
    "print(\"Shape:\", npa_ch.shape)\n",
    "npa_ch.head(5)"
   ]
  },
  {
   "cell_type": "markdown",
   "id": "checked-olympus",
   "metadata": {},
   "source": [
    "### Data cleaning"
   ]
  },
  {
   "cell_type": "markdown",
   "id": "played-marketing",
   "metadata": {},
   "source": [
    "**Note on the length of each file**\n",
    "\n",
    "SHP file:\n",
    "- 4133 line\n",
    "- 4079 unique PLZ + ZUSZIFF\n",
    "- 3196 unique PLZ\n",
    "- 470 PLZ in VD\n",
    "- 334 unique PLZ in VD\n",
    "\n",
    "NPA file:  \n",
    "- 4934 line\n",
    "- 3186 unique PLZ\n",
    "- 498 PLZ in VD\n",
    "- 334 unique PLZ in VD"
   ]
  },
  {
   "cell_type": "code",
   "execution_count": 6,
   "id": "regulation-charge",
   "metadata": {},
   "outputs": [],
   "source": [
    "# Obtain a Serie with all the NPA in Vaud\n",
    "npa_vd = npa_ch.query(\"KTKZ == 'VD'\")['PLZ4'].drop_duplicates()\n",
    "npa_vd.name = 'NPA'"
   ]
  },
  {
   "cell_type": "code",
   "execution_count": 7,
   "id": "former-error",
   "metadata": {},
   "outputs": [],
   "source": [
    "# The GeoDataFrame containing all the NPA in Vaud (the tuple (PLZ, ZUSZIFF) is unique)\n",
    "gdf_vd = gdf_ch[gdf_ch['PLZ'].isin(npa_vd)][['PLZ', 'ZUSZIFF', 'geometry']]\n",
    "gdf_vd.rename(columns= {'PLZ': 'NPA'}, inplace= True)"
   ]
  },
  {
   "cell_type": "markdown",
   "id": "suitable-center",
   "metadata": {},
   "source": [
    "### Write GeoJSON data"
   ]
  },
  {
   "cell_type": "code",
   "execution_count": 9,
   "id": "comic-writing",
   "metadata": {},
   "outputs": [],
   "source": [
    "gdf_vd.to_file(\"vaud_npa.geojson\", driver=\"GeoJSON\")"
   ]
  },
  {
   "cell_type": "code",
   "execution_count": null,
   "id": "confirmed-february",
   "metadata": {},
   "outputs": [],
   "source": []
  }
 ],
 "metadata": {
  "kernelspec": {
   "display_name": "Python 3",
   "language": "python",
   "name": "python3"
  },
  "language_info": {
   "codemirror_mode": {
    "name": "ipython",
    "version": 3
   },
   "file_extension": ".py",
   "mimetype": "text/x-python",
   "name": "python",
   "nbconvert_exporter": "python",
   "pygments_lexer": "ipython3",
   "version": "3.8.3"
  }
 },
 "nbformat": 4,
 "nbformat_minor": 5
}
